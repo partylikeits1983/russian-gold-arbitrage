{
 "cells": [
  {
   "cell_type": "code",
   "execution_count": 1,
   "id": "ee7517c1",
   "metadata": {},
   "outputs": [
    {
     "name": "stdout",
     "output_type": "stream",
     "text": [
      "Price data not found.\n"
     ]
    }
   ],
   "source": [
    "from selenium import webdriver\n",
    "from selenium.webdriver.chrome.service import Service\n",
    "from webdriver_manager.chrome import ChromeDriverManager\n",
    "from selenium.webdriver.common.by import By\n",
    "import time\n",
    "import requests\n",
    "\n",
    "# Setup ChromeDriver\n",
    "service = Service(ChromeDriverManager().install())\n",
    "driver = webdriver.Chrome(service=service)\n",
    "\n",
    "# URL of the page to scrape\n",
    "url = 'https://www.vtb.ru/personal/vklady-i-scheta/obezlichennyj-metallicheskij-schet/'\n",
    "\n",
    "sell_price_ru_rub = 0;\n",
    "buy_price_ru_rub = 0;\n",
    "\n",
    "try:\n",
    "    # Navigate to the page\n",
    "    driver.get(url)\n",
    "    \n",
    "    # Wait for the dynamic content to load\n",
    "    time.sleep(3)  # Adjust the sleep time if necessary\n",
    "    \n",
    "    # Find all price data elements using their class (adjust if necessary)\n",
    "    price_elements = driver.find_elements(By.CSS_SELECTOR, 'p.typographystyles__Box-foundation-kit__sc-14qzghz-0.jEFSaq.numbersstyles__TypographyTitle-foundation-kit__sc-1xhbrzd-4.haHdlc')\n",
    "    \n",
    "    # Assuming the first element is the sell price and the second is the buy price\n",
    "    if len(price_elements) >= 2:\n",
    "        sell_price_ru_rub = price_elements[0].text\n",
    "        buy_price_ru_rub = price_elements[1].text\n",
    "        print(f'Sell price: {sell_price_ru_rub}')\n",
    "        print(f'Buy price: {buy_price_ru_rub}')\n",
    "    else:\n",
    "        print('Price data not found.')\n",
    "finally:\n",
    "    # Close the browser\n",
    "    driver.quit()\n"
   ]
  },
  {
   "cell_type": "code",
   "execution_count": 2,
   "id": "7240bc51",
   "metadata": {},
   "outputs": [
    {
     "name": "stdout",
     "output_type": "stream",
     "text": [
      "Buy price: $2,353.40\n",
      "Sell price: $2,365.40\n"
     ]
    }
   ],
   "source": [
    "service = Service(ChromeDriverManager().install())\n",
    "driver = webdriver.Chrome(service=service)\n",
    "\n",
    "# URL of the page to scrape\n",
    "url = 'https://bullionexchanges.com/sell-to-us/bars'\n",
    "\n",
    "buy_price_usa = 0;\n",
    "sell_price_usa = 0;\n",
    "\n",
    "try:\n",
    "    # Navigate to the page\n",
    "    driver.get(url)\n",
    "    \n",
    "    # Wait for the dynamic content to load\n",
    "    time.sleep(3)  # Adjust the sleep time if necessary\n",
    "    \n",
    "    # Find all price data elements using their class\n",
    "    price_elements = driver.find_elements(By.CLASS_NAME, 'price-alZZ')\n",
    "    \n",
    "    # Assuming the first element is the buy price and the second is the sell price\n",
    "    if len(price_elements) >= 2:\n",
    "        buy_price_usa = price_elements[0].text\n",
    "        sell_price_usa = price_elements[1].text\n",
    "        print(f'Buy price: {buy_price_usa}')\n",
    "        print(f'Sell price: {sell_price_usa}')\n",
    "    else:\n",
    "        print('Price data not found.')\n",
    "finally:\n",
    "    # Close the browser\n",
    "    driver.quit()\n"
   ]
  },
  {
   "cell_type": "code",
   "execution_count": 4,
   "id": "4870d15f",
   "metadata": {},
   "outputs": [
    {
     "ename": "TypeError",
     "evalue": "unsupported operand type(s) for /: 'str' and 'float'",
     "output_type": "error",
     "traceback": [
      "\u001b[0;31m---------------------------------------------------------------------------\u001b[0m",
      "\u001b[0;31mTypeError\u001b[0m                                 Traceback (most recent call last)",
      "Cell \u001b[0;32mIn[4], line 9\u001b[0m\n\u001b[1;32m      6\u001b[0m     \u001b[38;5;28;01mreturn\u001b[39;00m price_per_oz \u001b[38;5;241m/\u001b[39m oz_to_grams\n\u001b[1;32m      8\u001b[0m \u001b[38;5;66;03m# Convert buy and sell prices to per gram\u001b[39;00m\n\u001b[0;32m----> 9\u001b[0m buy_price_usa_gram_usd \u001b[38;5;241m=\u001b[39m \u001b[43mconvert_price_oz_to_gram\u001b[49m\u001b[43m(\u001b[49m\u001b[43mbuy_price_usa\u001b[49m\u001b[43m)\u001b[49m\n\u001b[1;32m     10\u001b[0m sell_price_usa_gram_usd \u001b[38;5;241m=\u001b[39m convert_price_oz_to_gram(sell_price_usa)\n\u001b[1;32m     12\u001b[0m \u001b[38;5;28mprint\u001b[39m(\u001b[38;5;124mf\u001b[39m\u001b[38;5;124m'\u001b[39m\u001b[38;5;124mBuy price per gram: $\u001b[39m\u001b[38;5;132;01m{\u001b[39;00mbuy_price_usa_gram_usd\u001b[38;5;132;01m:\u001b[39;00m\u001b[38;5;124m.2f\u001b[39m\u001b[38;5;132;01m}\u001b[39;00m\u001b[38;5;124m'\u001b[39m)\n",
      "Cell \u001b[0;32mIn[4], line 6\u001b[0m, in \u001b[0;36mconvert_price_oz_to_gram\u001b[0;34m(price_per_oz)\u001b[0m\n\u001b[1;32m      4\u001b[0m \u001b[38;5;28;01mdef\u001b[39;00m \u001b[38;5;21mconvert_price_oz_to_gram\u001b[39m(price_per_oz):\n\u001b[1;32m      5\u001b[0m \u001b[38;5;250m    \u001b[39m\u001b[38;5;124;03m\"\"\"Converts price from per ounce to per gram.\"\"\"\u001b[39;00m\n\u001b[0;32m----> 6\u001b[0m     \u001b[38;5;28;01mreturn\u001b[39;00m \u001b[43mprice_per_oz\u001b[49m\u001b[43m \u001b[49m\u001b[38;5;241;43m/\u001b[39;49m\u001b[43m \u001b[49m\u001b[43moz_to_grams\u001b[49m\n",
      "\u001b[0;31mTypeError\u001b[0m: unsupported operand type(s) for /: 'str' and 'float'"
     ]
    }
   ],
   "source": [
    "# Conversion factor from ounces to grams\n",
    "oz_to_grams = 28.3495\n",
    "\n",
    "# Convert the string prices to floats\n",
    "buy_price_usa = float(buy_price_usa)\n",
    "sell_price_usa = float(sell_price_usa)\n",
    "\n",
    "def convert_price_oz_to_gram(price_per_oz):\n",
    "    \"\"\"Converts price from per ounce to per gram.\"\"\"\n",
    "    return price_per_oz / oz_to_grams\n",
    "\n",
    "# Convert buy and sell prices to per gram\n",
    "buy_price_usa_gram_usd = convert_price_oz_to_gram(buy_price_usa)\n",
    "sell_price_usa_gram_usd = convert_price_oz_to_gram(sell_price_usa)\n",
    "\n",
    "print(f'Buy price per gram: ${buy_price_usa_gram_usd:.2f}')\n",
    "print(f'Sell price per gram: ${sell_price_usa_gram_usd:.2f}')"
   ]
  },
  {
   "cell_type": "code",
   "execution_count": null,
   "id": "f04e396c",
   "metadata": {},
   "outputs": [],
   "source": [
    "def get_usd_rub_exchange_rate():\n",
    "    # URL for the ExchangeRate-API to get the latest exchange rates\n",
    "    url = \"https://api.exchangerate-api.com/v4/latest/USD\"\n",
    "\n",
    "    try:\n",
    "        # Make a GET request to the API\n",
    "        response = requests.get(url)\n",
    "        response.raise_for_status()  # Raises an HTTPError if the response status code is 4XX/5XX\n",
    "\n",
    "        # Parse the response JSON\n",
    "        data = response.json()\n",
    "\n",
    "        # Get the USD to RUB exchange rate\n",
    "        usd_to_rub = data['rates']['RUB']\n",
    "        return usd_to_rub\n",
    "    except requests.RequestException as e:\n",
    "        print(f\"Error fetching exchange rate: {e}\")\n",
    "        return None\n",
    "\n",
    "# Example usage\n",
    "exchange_rate = get_usd_rub_exchange_rate()\n",
    "if exchange_rate is not None:\n",
    "    print(f\"USD/RUB exchange rate: {exchange_rate}\")\n",
    "else:\n",
    "    print(\"Failed to retrieve the exchange rate.\")\n",
    "\n",
    "buy_price_ru_rub_normalized = float(buy_price_ru_rub.replace(\" \", \"\").replace(\",\", \".\"))\n",
    "\n",
    "# Convert the cost of buying in Russia to USD\n",
    "cost_in_usd = buy_price_ru_rub_normalized / exchange_rate\n",
    "\n",
    "# Calculate P&L per gram\n",
    "profit_per_gram_usd = buy_price_usa_gram_usd - cost_in_usd\n",
    "\n",
    "print(\"Price per gram AU in Russia:\", \"${:.2f}\".format(buy_price_ru_rub_normalized/exchange_rate))\n",
    "print(\"Price per gram AU in USA:\", \"${:.2f}\".format(sell_price_usa_gram_usd))\n",
    "print(\"Profit per gram in USD:\", \"${:.2f}\".format(profit_per_gram_usd))"
   ]
  },
  {
   "cell_type": "code",
   "execution_count": null,
   "id": "9f563b12",
   "metadata": {},
   "outputs": [],
   "source": []
  },
  {
   "cell_type": "code",
   "execution_count": null,
   "id": "334b7155",
   "metadata": {},
   "outputs": [],
   "source": []
  }
 ],
 "metadata": {
  "kernelspec": {
   "display_name": "Python 3 (ipykernel)",
   "language": "python",
   "name": "python3"
  },
  "language_info": {
   "codemirror_mode": {
    "name": "ipython",
    "version": 3
   },
   "file_extension": ".py",
   "mimetype": "text/x-python",
   "name": "python",
   "nbconvert_exporter": "python",
   "pygments_lexer": "ipython3",
   "version": "3.11.9"
  }
 },
 "nbformat": 4,
 "nbformat_minor": 5
}
